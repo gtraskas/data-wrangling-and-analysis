{
 "cells": [
  {
   "cell_type": "markdown",
   "metadata": {
    "nbpresent": {
     "id": "cf58d0ff-13ec-4c56-846c-a4678a3b0256"
    }
   },
   "source": [
    "# Combine CSV Data <a id='top'></a>\n",
    "\n",
    "***\n",
    "\n",
    "## Table of Contents\n",
    "\n",
    "* [Introduction](#intro)\n",
    "* [Import Required Libraries](#import)\n",
    "* [Read the CSV Data into Pandas Dataframe](#load)\n",
    "* [Check Data](#check)\n",
    "* [Combine `outcome` and `event` Data](#join1)\n",
    "* [Combine with `fighter` Data](#join2)\n",
    "* [Save Data](#save)\n",
    "* [Show the Distribution of Fighters' Nationality](#distr)\n",
    "\n",
    "\n",
    "## Introduction <a id='intro'></a>\n",
    "\n",
    "First, we need to download the data, which are in CSV format:\n",
    "\n",
    "1. Download **outcome** csv [here](http://www.sharecsv.com/s/e593dd089bc5aaf6583b5187f96cb48e/outcome_interview.csv). The outcome csv contains the matchup data for various mixed martial arts fights - including the two fighters involved, the winner, and the event where it took place - all encoded in IDs.\n",
    "\n",
    "2. Download **event** csv [here](http://www.sharecsv.com/s/f9b678bf4a60bafe3f0a4132313e194d/event_interview.csv). The event csv contains event data for various mixed martial arts events - most importantly the event name. The id corresponds to the event_id in the outcome csv.\n",
    "\n",
    "3. Download **fighter** csv [here](http://www.sharecsv.com/s/4f1b611a0d9f96d7700adba8b387df21/fighter_interview.csv). The fighter csv contains fighter data for various mixed martial arts fighters - their names and their nationalities. The id corresponds to both fighter1_id and fighter2_id in the outcome csv.\n",
    "\n",
    "Using these CSVs and id keys, we will combine the data, rename column names, and also get rid of many columns. Last, we will make a visualization showing the distribution of fighters from various nationalities. The exported csv of all the matchups (reminder: matchups are listed in the outcome csv) will have only the following columns:\n",
    "\n",
    "| fighter1_name | fighter2_name | fighter1_nationality | fighter2_nationality | event_name |\n",
    "\n",
    "**Notes**\n",
    "\n",
    "* The deadline for completion is 11:30PM (23:30) Pacific Standard Time on Wednesday May 22 (will be Thursday for most of your time zones). I will review all entries on Thursday May 23 PST (GMT -8).\n",
    "\n",
    "* The jupyter notebook and the exported CSV will be uploaded to GitHub.\n",
    "\n",
    "## Import Required Libraries <a id='import'></a>"
   ]
  },
  {
   "cell_type": "code",
   "execution_count": null,
   "metadata": {
    "nbpresent": {
     "id": "781bed4d-d520-4299-aafc-f1eed6ae797a"
    }
   },
   "outputs": [],
   "source": [
    "# Import required libraries.\n",
    "import pandas as pd\n",
    "import matplotlib.pyplot as plt\n",
    "\n",
    "%matplotlib inline"
   ]
  },
  {
   "cell_type": "markdown",
   "metadata": {},
   "source": [
    "[Go to the top](#top)\n",
    "\n",
    "## Read the CSV Data into Pandas Dataframe <a id='load'></a>\n",
    "\n",
    "Read the `CSV` data into `Pandas` Dataframes."
   ]
  },
  {
   "cell_type": "code",
   "execution_count": null,
   "metadata": {},
   "outputs": [],
   "source": [
    "# Read outcome csv.\n",
    "outcome = pd.read_csv('outcome_interview.csv')\n",
    "\n",
    "# Show first rows.\n",
    "outcome.head()"
   ]
  },
  {
   "cell_type": "code",
   "execution_count": null,
   "metadata": {},
   "outputs": [],
   "source": [
    "# Remove the unwanted column.\n",
    "outcome.drop('winner_id', axis=1, inplace=True)"
   ]
  },
  {
   "cell_type": "code",
   "execution_count": null,
   "metadata": {},
   "outputs": [],
   "source": [
    "# Read event csv.\n",
    "event = pd.read_csv('event_interview.csv')\n",
    "\n",
    "# Show first rows.\n",
    "event.head()"
   ]
  },
  {
   "cell_type": "code",
   "execution_count": null,
   "metadata": {},
   "outputs": [],
   "source": [
    "# Remove the unwanted columns.\n",
    "event.drop(event.columns[2:], axis=1, inplace=True)"
   ]
  },
  {
   "cell_type": "code",
   "execution_count": null,
   "metadata": {},
   "outputs": [],
   "source": [
    "# Read fighter csv.\n",
    "fighter = pd.read_csv('fighter_interview.csv')\n",
    "\n",
    "# Show first rows.\n",
    "fighter.head()"
   ]
  },
  {
   "cell_type": "markdown",
   "metadata": {},
   "source": [
    "[Go to the top](#top)\n",
    "\n",
    "## Check Data <a id='check'></a>\n",
    "\n",
    "The dataframes will be examined for the quality of data. The types and shape of the data will be checked, as well as if there are any duplicate and null records."
   ]
  },
  {
   "cell_type": "code",
   "execution_count": null,
   "metadata": {},
   "outputs": [],
   "source": [
    "# Create a function to check the data.\n",
    "def check_data(df, key):\n",
    "    \"\"\"\n",
    "    A function to check the data.\n",
    "    Args:\n",
    "        df: Pandas dataframe\n",
    "        key: str, column name of dataframe\n",
    "    \"\"\"\n",
    "    print('Data types:\\n{}'.format(df.dtypes))\n",
    "    print('\\nShape (rows, columns):\\n{}'.format(df.shape))\n",
    "    print('\\nMissing values:\\n{}'.format(df.isnull().sum()))\n",
    "    print('\\nNumber of duplicated records: {}'.format(df.duplicated(key).sum()))\n",
    "    \n",
    "# Check outcome.\n",
    "check_data(outcome, 'id')"
   ]
  },
  {
   "cell_type": "code",
   "execution_count": null,
   "metadata": {},
   "outputs": [],
   "source": [
    "# Check event.\n",
    "check_data(event, 'id')"
   ]
  },
  {
   "cell_type": "code",
   "execution_count": null,
   "metadata": {},
   "outputs": [],
   "source": [
    "# Check fighter.\n",
    "check_data(fighter, 'id')"
   ]
  },
  {
   "cell_type": "markdown",
   "metadata": {},
   "source": [
    "[Go to the top](#top)\n",
    "\n",
    "## Combine `outcome` and `event` Data <a id='join1'></a>\n",
    "\n",
    "First, we will merge with an `inner` join the `outcome` and the `event` dataframes on the `event_id` and `id` keys correspondingly."
   ]
  },
  {
   "cell_type": "code",
   "execution_count": null,
   "metadata": {},
   "outputs": [],
   "source": [
    "# Join the dfs.\n",
    "df = pd.merge(outcome, event, left_on='event_id', right_on='id', how='inner', sort=False)\n",
    "\n",
    "# Show first rows.\n",
    "df.head(2)"
   ]
  },
  {
   "cell_type": "markdown",
   "metadata": {},
   "source": [
    "Then, we will rename the columns of interest and remove the rest."
   ]
  },
  {
   "cell_type": "code",
   "execution_count": null,
   "metadata": {},
   "outputs": [],
   "source": [
    "# Remove the unwanted columns.\n",
    "df.drop(df.columns[[3, 4]], axis=1, inplace=True)\n",
    "\n",
    "# Rename columns.\n",
    "df.rename(columns={'name':'event_name'}, inplace=True)\n",
    "\n",
    "# Show first rows.\n",
    "df.head(2)"
   ]
  },
  {
   "cell_type": "markdown",
   "metadata": {},
   "source": [
    "[Go to the top](#top)\n",
    "\n",
    "## Combine with `fighter` Data <a id='join2'></a>\n",
    "\n",
    "Now, we will combine with an `inner` join the `df` and the `fighter` dataframes on the `fighter1_id`, `fighter2_id`, and `id` keys."
   ]
  },
  {
   "cell_type": "code",
   "execution_count": null,
   "metadata": {},
   "outputs": [],
   "source": [
    "# First split the output df into 2 dfs, each one for fighter 1 and 2.\n",
    "df1 = df.drop(['fighter2_id'], axis=1)\n",
    "df2 = df.drop(['fighter1_id'], axis=1)\n",
    "\n",
    "# Join the dfs.\n",
    "df1 = pd.merge(df1, fighter, left_on='fighter1_id', right_on='id', how='inner')\n",
    "df2 = pd.merge(df2, fighter, left_on='fighter2_id', right_on='id', how='inner')\n",
    "\n",
    "# Rename columns.\n",
    "df1.rename(columns={'name':'fighter1_name', 'nationality':'fighter1_nationality'}, inplace=True)\n",
    "df2.rename(columns={'name':'fighter2_name', 'nationality':'fighter2_nationality'}, inplace=True)\n",
    "\n",
    "# Drop columns.\n",
    "df1.drop(df1.columns[[1, 2, 3]], axis=1, inplace=True)\n",
    "df2.drop(df2.columns[[1, 3]], axis=1, inplace=True)\n",
    "\n",
    "# Check data.\n",
    "check_data(df1, 'id_x')\n",
    "print(70*'-')\n",
    "check_data(df2, 'id_x')\n",
    "\n",
    "# Show first rows.\n",
    "df1.head(2)"
   ]
  },
  {
   "cell_type": "code",
   "execution_count": null,
   "metadata": {},
   "outputs": [],
   "source": [
    "# Show first rows.\n",
    "df2.head(2)"
   ]
  },
  {
   "cell_type": "code",
   "execution_count": null,
   "metadata": {},
   "outputs": [],
   "source": [
    "# Join the 'df1' and 'df2' on id_x.\n",
    "final = pd.merge(df1, df2, on='id_x', how='inner')\n",
    "\n",
    "# Re-arrange the order of the columns.\n",
    "cols = ['id_x', 'fighter1_name', 'fighter2_name', 'fighter1_nationality', 'fighter2_nationality', 'event_name']\n",
    "\n",
    "# Create a new dataframe with the columns in the desired order.\n",
    "final = final[cols]\n",
    "\n",
    "# Drop unwanted column.\n",
    "final.drop('id_x', axis=1, inplace=True)\n",
    "\n",
    "# Show first rows.\n",
    "final.head()"
   ]
  },
  {
   "cell_type": "markdown",
   "metadata": {},
   "source": [
    "[Go to the top](#top)\n",
    "\n",
    "## Save Data <a id='save'></a>\n",
    "\n",
    "Before we save the data we should check them."
   ]
  },
  {
   "cell_type": "code",
   "execution_count": null,
   "metadata": {},
   "outputs": [],
   "source": [
    "check_data(final, 'fighter1_name')"
   ]
  },
  {
   "cell_type": "markdown",
   "metadata": {},
   "source": [
    "There are some missing nationality values. We can save a full final csv file and another one without the rows containing the missing values."
   ]
  },
  {
   "cell_type": "code",
   "execution_count": null,
   "metadata": {},
   "outputs": [],
   "source": [
    "# Export to csv.\n",
    "final.to_csv('final.csv', index=False)\n",
    "\n",
    "# Remove the rows with missing values and do a check.\n",
    "final_without_nans = final.dropna()\n",
    "check_data(final_without_nans, 'fighter1_name')\n",
    "\n",
    "# Export to csv without the df index.\n",
    "final_without_nans.to_csv('final_without_nans.csv', index=False)"
   ]
  },
  {
   "cell_type": "markdown",
   "metadata": {},
   "source": [
    "[Go to the top](#top)\n",
    "\n",
    "## Show the Distribution of Fighters' Nationality <a id='distr'></a>\n",
    "\n",
    "To visualize the distribution of fighters from various nationalities, we need first to concatenate `fighter1_nationality` and `fighter2_nationality` and then aggregate the data with the `groupby` function."
   ]
  },
  {
   "cell_type": "code",
   "execution_count": null,
   "metadata": {},
   "outputs": [],
   "source": [
    "# Get the columns of nationality as Pandas series.\n",
    "fighter1_nationality = final.fighter1_nationality\n",
    "fighter2_nationality = final.fighter2_nationality\n",
    "\n",
    "# Combine the two Series.\n",
    "nationality = pd.concat([fighter1_nationality, fighter1_nationality], ignore_index=True)\n",
    "\n",
    "# Convert to df.\n",
    "nationality = pd.DataFrame({'Nationality':nationality.values})\n",
    "\n",
    "# Show first rows.\n",
    "nationality.head()"
   ]
  },
  {
   "cell_type": "markdown",
   "metadata": {},
   "source": [
    "Create the chart."
   ]
  },
  {
   "cell_type": "code",
   "execution_count": null,
   "metadata": {
    "scrolled": false
   },
   "outputs": [],
   "source": [
    "# Compute the unique values of the nationalities column and then create a bar plot.\n",
    "ax = nationality['Nationality'].value_counts().plot(kind='barh', figsize=(20, 30))\n",
    "\n",
    "# Annotate bars with values.\n",
    "# Found from https://stackoverflow.com/questions/25447700/annotate-bars-with-values-on-pandas-bar-plots\n",
    "for p in ax.patches:\n",
    "    ax.annotate(str(p.get_width()), (p.get_x() + p.get_width(), p.get_y()),\n",
    "                xytext=(10, 1), textcoords='offset points')"
   ]
  },
  {
   "cell_type": "markdown",
   "metadata": {},
   "source": [
    "[Go to the top](#top)"
   ]
  }
 ],
 "metadata": {
  "kernelspec": {
   "display_name": "Python 3",
   "language": "python",
   "name": "python3"
  },
  "language_info": {
   "codemirror_mode": {
    "name": "ipython",
    "version": 3
   },
   "file_extension": ".py",
   "mimetype": "text/x-python",
   "name": "python",
   "nbconvert_exporter": "python",
   "pygments_lexer": "ipython3",
   "version": "3.7.9"
  }
 },
 "nbformat": 4,
 "nbformat_minor": 2
}
